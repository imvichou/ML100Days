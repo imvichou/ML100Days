{
 "cells": [
  {
   "cell_type": "code",
   "execution_count": 4,
   "metadata": {},
   "outputs": [
    {
     "name": "stdout",
     "output_type": "stream",
     "text": [
      "67.16666666666667 66.6 75.33333333333333\n",
      "89 85.0 90\n",
      "48 60.0 65\n",
      "13.433995020924426 9.707728879609279 8.825468196582484\n"
     ]
    }
   ],
   "source": [
    "#english_score = np.array([55,89,76,65,48,70])\n",
    "#math_score = np.array([60,85,60,68,np.nan,60])\n",
    "#chinese_score = np.array([65,90,82,72,66,77])\n",
    "\n",
    "#上 3 列共六位同學的英文、數學、國文成績，第一個元素代表第一位同學，\n",
    "#舉例第一位同學英文 55 分、數學 60 分、國文 65 分，今天第五位同學因某原因沒來考試，導致數學成績缺值，運用上列數據回答下列問題。\n",
    "\n",
    "#1.請計算各科成績平均、最大值、最小值、標準差，其中數學缺一筆資料可忽略？\n",
    "\n",
    "import numpy as np\n",
    "\n",
    "english_score = np.array([55,89,76,65,48,70])\n",
    "math_score = np.array([60,85,60,68,np.nan,60])\n",
    "chinese_score = np.array([65,90,82,72,66,77])\n",
    "\n",
    "#各科成績平均\n",
    "english_mean = np.nanmean(english_score)\n",
    "math_mean = np.nanmean(math_score)\n",
    "chinese_mean = np.nanmean(chinese_score)\n",
    "\n",
    "print(english_mean,math_mean,chinese_mean)\n",
    "\n",
    "#各科成績最大值\n",
    "english_max = np.nanmax(english_score)\n",
    "math_max = np.nanmax(math_score)\n",
    "chinese_max = np.nanmax(chinese_score)\n",
    "\n",
    "print(english_max,math_max,chinese_max)\n",
    "\n",
    "#各科成績最小值\n",
    "english_min = np.nanmin(english_score)\n",
    "math_min = np.nanmin(math_score)\n",
    "chinese_min = np.nanmin(chinese_score)\n",
    "\n",
    "print(english_min,math_min,chinese_min)\n",
    "\n",
    "#各科成績標準差\n",
    "english_std = np.nanstd(english_score)\n",
    "math_std = np.nanstd(math_score)\n",
    "chinese_std = np.nanstd(chinese_score)\n",
    "\n",
    "print(english_std,math_std,chinese_std)"
   ]
  },
  {
   "cell_type": "code",
   "execution_count": 18,
   "metadata": {},
   "outputs": [
    {
     "name": "stdout",
     "output_type": "stream",
     "text": [
      "67.16666666666667 64.66666666666667 75.33333333333333\n",
      "89 85 90\n",
      "48 55 65\n",
      "13.433995020924426 9.860132971832694 8.825468196582484\n"
     ]
    }
   ],
   "source": [
    "#2.第五位同學補考數學後成績為 55，請計算補考後數學成績平均、最大值、最小值、標準差？\n",
    "\n",
    "english_score = np.array([55,89,76,65,48,70])\n",
    "math_score_New = np.array([60,85,60,68,55,60])\n",
    "chinese_score = np.array([65,90,82,72,66,77])\n",
    "\n",
    "#各科成績平均\n",
    "english_mean = np.nanmean(english_score)\n",
    "math_mean = np.nanmean(math_score_New)\n",
    "chinese_mean = np.nanmean(chinese_score)\n",
    "\n",
    "print(english_mean,math_mean,chinese_mean)\n",
    "\n",
    "#各科成績最大值\n",
    "english_max = np.nanmax(english_score)\n",
    "math_max = np.nanmax(math_score_New)\n",
    "chinese_max = np.nanmax(chinese_score)\n",
    "\n",
    "print(english_max,math_max,chinese_max)\n",
    "\n",
    "#各科成績最小值\n",
    "english_min = np.nanmin(english_score)\n",
    "math_min = np.nanmin(math_score_New)\n",
    "chinese_min = np.nanmin(chinese_score)\n",
    "\n",
    "print(english_min,math_min,chinese_min)\n",
    "\n",
    "#各科成績標準差\n",
    "english_std = np.nanstd(english_score)\n",
    "math_std = np.nanstd(math_score_New)\n",
    "chinese_std = np.nanstd(chinese_score)\n",
    "\n",
    "print(english_std,math_std,chinese_std)"
   ]
  },
  {
   "cell_type": "code",
   "execution_count": 32,
   "metadata": {},
   "outputs": [
    {
     "name": "stdout",
     "output_type": "stream",
     "text": [
      "[[1.         0.7855563  0.97792828]\n",
      " [0.7855563  1.         0.74056803]\n",
      " [0.97792828 0.74056803 1.        ]]\n"
     ]
    }
   ],
   "source": [
    "#3.用補考後資料找出與國文成績相關係數最高的學科？\n",
    "#相關矩陣從左上到右下斜對角為1，對稱的A對應B或B對應A會同值\n",
    "\n",
    "x = np.stack((english_score,math_score_New,chinese_score),axis=0)\n",
    "print(np.corrcoef(x))\n",
    "\n",
    "#english"
   ]
  }
 ],
 "metadata": {
  "kernelspec": {
   "display_name": "Python 3",
   "language": "python",
   "name": "python3"
  },
  "language_info": {
   "codemirror_mode": {
    "name": "ipython",
    "version": 3
   },
   "file_extension": ".py",
   "mimetype": "text/x-python",
   "name": "python",
   "nbconvert_exporter": "python",
   "pygments_lexer": "ipython3",
   "version": "3.8.5"
  }
 },
 "nbformat": 4,
 "nbformat_minor": 4
}
