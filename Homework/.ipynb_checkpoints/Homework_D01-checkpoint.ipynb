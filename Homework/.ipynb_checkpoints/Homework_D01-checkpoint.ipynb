{
 "cells": [
  {
   "cell_type": "code",
   "execution_count": 17,
   "metadata": {
    "scrolled": true
   },
   "outputs": [
    {
     "data": {
      "text/plain": [
       "'1.19.2'"
      ]
     },
     "execution_count": 17,
     "metadata": {},
     "output_type": "execute_result"
    }
   ],
   "source": [
    "#載入Numpy模組，並印出版本號\n",
    "\n",
    "import numpy as np\n",
    "\n",
    "print(np.__version__)"
   ]
  },
  {
   "cell_type": "code",
   "execution_count": 32,
   "metadata": {},
   "outputs": [
    {
     "name": "stdout",
     "output_type": "stream",
     "text": [
      "[1 2 3] <class 'numpy.ndarray'> [1 2 3] <class 'numpy.ndarray'>\n"
     ]
    }
   ],
   "source": [
    "#list中括號、內容可修改，tuble小括號、內容不可修改、速度較快、資料較安全\n",
    "#用函式array宣告list a 及 tuble b，並印出各自的內容與類別\n",
    "#函式種類眾多 array(陣列或元組)/range(起始,終止,間隔)/arange(起始,終止,間隔)\n",
    "\n",
    "a=np.array([1,2,3])\n",
    "b=np.array((1,2,3))\n",
    "\n",
    "print(a,type(a),b,type(b))"
   ]
  },
  {
   "cell_type": "code",
   "execution_count": 34,
   "metadata": {},
   "outputs": [
    {
     "name": "stdout",
     "output_type": "stream",
     "text": [
      "[1.  1.5 2.  2.5]\n"
     ]
    }
   ],
   "source": [
    "#特別指定型別為浮點數\n",
    "c=np.arange(1.0, 3.0, 0.5, dtype='float64')\n",
    "\n",
    "print(c)\n",
    "\n",
    "#間隔為非整數時不一定會包含結束值，可使用linspace"
   ]
  },
  {
   "cell_type": "code",
   "execution_count": 71,
   "metadata": {},
   "outputs": [
    {
     "name": "stdout",
     "output_type": "stream",
     "text": [
      "[ 0  1  2  3  4  5  6  7  8  9 10 11 12 13 14 15 16 17 18 19 20]\n",
      "[0, 2, 4, 6, 8, 10, 12, 14, 16, 18, 20]\n",
      "[0, 3, 6, 9, 12, 15, 18]\n"
     ]
    }
   ],
   "source": [
    "#1.生成一個等差數列，首數為0，尾數為20，公差為1的數列。\n",
    "d=np.arange(0,21,1)\n",
    "print(d)\n",
    "\n",
    "#2.呈上題，將以上數列取出偶數。\n",
    "e=list(np.arange(0))\n",
    "\n",
    "for item in d:\n",
    "\n",
    "    if item%2==0:\n",
    "        e.append(item)\n",
    "\n",
    "print(e)\n",
    "\n",
    "#3.呈1題，將數列取出3的倍數。\n",
    "f=list(np.arange(0))\n",
    "\n",
    "for item in d:\n",
    "    \n",
    "    if item%3==0:\n",
    "        f.append(item)\n",
    "    \n",
    "print(f)"
   ]
  }
 ],
 "metadata": {
  "kernelspec": {
   "display_name": "Python 3",
   "language": "python",
   "name": "python3"
  },
  "language_info": {
   "codemirror_mode": {
    "name": "ipython",
    "version": 3
   },
   "file_extension": ".py",
   "mimetype": "text/x-python",
   "name": "python",
   "nbconvert_exporter": "python",
   "pygments_lexer": "ipython3",
   "version": "3.8.5"
  }
 },
 "nbformat": 4,
 "nbformat_minor": 4
}
